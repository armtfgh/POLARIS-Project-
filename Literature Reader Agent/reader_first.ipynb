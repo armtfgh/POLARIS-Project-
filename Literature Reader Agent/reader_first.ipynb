{
 "cells": [
  {
   "cell_type": "code",
   "execution_count": 11,
   "id": "fbca1753",
   "metadata": {},
   "outputs": [],
   "source": [
    "\n",
    "from openai import OpenAI\n",
    "import os, json\n",
    "import httpx\n",
    "\n",
    "client = OpenAI(api_key=os.getenv(\"OPENAI_API_KEY\"),http_client=httpx.Client(verify=False))\n"
   ]
  },
  {
   "cell_type": "code",
   "execution_count": null,
   "id": "d2756797",
   "metadata": {},
   "outputs": [
    {
     "name": "stdout",
     "output_type": "stream",
     "text": [
      "['Use a slight excess of benzaldehyde relative to acetone (e.g., ~2:1 ratio) to drive the crossed aldol condensation toward benzylideneacetone and minimize self‑condensation of acetone', 'Operate in a protic solvent like ethanol or water/ethanol mixture to enhance enolate formation yet allow precipitation of product for easy isolation', 'Maintain moderate base loading—just enough NaOH to generate acetone enolate but avoid excessive base that may promote retro‑aldol or Cannizzaro side reactions', 'Optimize reaction temperature within a moderate range (e.g., 30‑70\\u202f°C) to balance enolate formation rate with minimizing side reactions and unwanted polymerization', 'Use short residence time (5–15\\u202fmin) in flow to enhance productivity while minimizing retro‑aldol degradation of the product', 'Efficient mixing of acetone enolate with benzaldehyde—such as pre‑mixing base and acetone then gradual addition of benzaldehyde—helps favor the desired crossed product', 'Encourage precipitation of benzylideneacetone during reaction to shift equilibrium via product removal from the reactive medium', 'Minimize dilution to maintain effective concentrations but avoid too concentrated solutions that lead to oily by‑product formation and impurity incorporation', 'Control water content carefully; sufficient water helps enolate generation but excess dilution can lower yields as seen in water/acetone systems', 'Ensure efficient downstream purification—rapid cooling and filtration or crystallization help preserve high yield by capturing the product before degradation']\n"
     ]
    }
   ],
   "source": [
    "GOOD_BULLETS_SCHEMA = {\n",
    "  \"name\": \"good_bullets\",\n",
    "  \"schema\": {\n",
    "    \"type\": \"object\",\n",
    "    \"properties\": {\n",
    "      \"bullets\": {\n",
    "        \"type\": \"array\",\n",
    "        \"items\": {\"type\": \"string\"}\n",
    "      }\n",
    "    },\n",
    "    \"required\": [\"bullets\"],\n",
    "    \"additionalProperties\": False\n",
    "  }\n",
    "}\n",
    "\n",
    "payload = {\n",
    "  \"chem_type\": \"silver nanoparticle (AgNP) synthesis in a flow system\",\n",
    "  \"objective\": \"loss (minimize)\",\n",
    "  \"parameters\": [\n",
    "    {\"name\":'moleq2', \"low\":1.0, \"high\":43.57, \"unit\":'%', \"role\":'acetone equivalents', \"type\":'continuous'},\n",
    "    {\"name\":'moleq3', \"low\":0.02, \"high\":0.2, \"unit\":'%', \"role\":'Base equivalents', \"type\":'continuous'},\n",
    "    {\"name\":'temp', \"low\":30, \"high\":70, \"unit\":'celsius', \"role\":'Reaction temperature', \"type\":'continuous'},\n",
    "    {\"name\":'time', \"low\":5, \"high\":15, \"unit\":'mins', \"role\":'residence time (Flow chemistry)', \"type\":'continuous'}\n",
    "  ],\n",
    "  \"k_bullets\": 10\n",
    "}\n",
    "\n",
    "\n",
    "resp = client.responses.create(\n",
    "  model=\"gpt-4o\",\n",
    "  instructions=(\n",
    "    \"You are a chemistry literature agent. Use web_search to find evidence. \"\n",
    "    \"Return ONLY JSON with key 'bullets', where 'bullets' is a list of context strings. \"\n",
    "    \"Each string should be one short, evidence-grounded optimization hint.\"\n",
    "    \"no links, no citations, no quotes, just the bullet points.\"\n",
    "  ),\n",
    "  input=[{\n",
    "    \"role\": \"user\",\n",
    "    \"content\": [{\"type\":\"input_text\",\"text\": json.dumps(payload)}]\n",
    "  }],\n",
    "  tools=[{\"type\":\"web_search\"}],\n",
    "  text={\n",
    "    \"format\": {\n",
    "      \"type\": \"json_schema\",\n",
    "      \"name\": GOOD_BULLETS_SCHEMA[\"name\"],\n",
    "      \"schema\": GOOD_BULLETS_SCHEMA[\"schema\"],\n",
    "      \"strict\": False  # you can flip to True if you want hard enforcement\n",
    "    }\n",
    "  }\n",
    ")\n",
    "\n",
    "out = resp.output_text\n",
    "parsed = json.loads(out)\n",
    "GOOD_BULLETS = parsed.get(\"bullets\", [])\n",
    "print(GOOD_BULLETS)"
   ]
  },
  {
   "cell_type": "code",
   "execution_count": 23,
   "id": "65e23887",
   "metadata": {},
   "outputs": [
    {
     "data": {
      "text/plain": [
       "['Use a slight excess of benzaldehyde relative to acetone (e.g., ~2:1 ratio) to drive the crossed aldol condensation toward benzylideneacetone and minimize self‑condensation of acetone',\n",
       " 'Operate in a protic solvent like ethanol or water/ethanol mixture to enhance enolate formation yet allow precipitation of product for easy isolation',\n",
       " 'Maintain moderate base loading—just enough NaOH to generate acetone enolate but avoid excessive base that may promote retro‑aldol or Cannizzaro side reactions',\n",
       " 'Optimize reaction temperature within a moderate range (e.g., 30‑70\\u202f°C) to balance enolate formation rate with minimizing side reactions and unwanted polymerization',\n",
       " 'Use short residence time (5–15\\u202fmin) in flow to enhance productivity while minimizing retro‑aldol degradation of the product',\n",
       " 'Efficient mixing of acetone enolate with benzaldehyde—such as pre‑mixing base and acetone then gradual addition of benzaldehyde—helps favor the desired crossed product',\n",
       " 'Encourage precipitation of benzylideneacetone during reaction to shift equilibrium via product removal from the reactive medium',\n",
       " 'Minimize dilution to maintain effective concentrations but avoid too concentrated solutions that lead to oily by‑product formation and impurity incorporation',\n",
       " 'Control water content carefully; sufficient water helps enolate generation but excess dilution can lower yields as seen in water/acetone systems',\n",
       " 'Ensure efficient downstream purification—rapid cooling and filtration or crystallization help preserve high yield by capturing the product before degradation']"
      ]
     },
     "execution_count": 23,
     "metadata": {},
     "output_type": "execute_result"
    }
   ],
   "source": [
    "GOOD_BULLETS"
   ]
  }
 ],
 "metadata": {
  "kernelspec": {
   "display_name": "torch_env",
   "language": "python",
   "name": "python3"
  },
  "language_info": {
   "codemirror_mode": {
    "name": "ipython",
    "version": 3
   },
   "file_extension": ".py",
   "mimetype": "text/x-python",
   "name": "python",
   "nbconvert_exporter": "python",
   "pygments_lexer": "ipython3",
   "version": "3.10.18"
  }
 },
 "nbformat": 4,
 "nbformat_minor": 5
}
